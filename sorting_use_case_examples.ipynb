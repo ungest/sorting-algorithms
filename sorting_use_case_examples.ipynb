{
 "cells": [
  {
   "cell_type": "markdown",
   "metadata": {},
   "source": [
    "# Sorting Algorithms Examples"
   ]
  },
  {
   "cell_type": "markdown",
   "metadata": {},
   "source": [
    "### Bubble sort used to sort names in an alpabetical order"
   ]
  },
  {
   "cell_type": "code",
   "execution_count": 25,
   "metadata": {},
   "outputs": [],
   "source": [
    "\n",
    "def sort_comp_name(list_of_company_name):\n",
    "    alphabet = ['a', 'b', 'c', 'd', 'e', 'f', 'g', 'h', 'i', 'j', 'k', \n",
    "                'l', 'm', 'n', 'o', 'p', 'q', 'r', 's', 't', 'u', 'v', \n",
    "                'w', 'x', 'y', 'z']\n",
    "\n",
    "    for i in range(len(list_of_company_name)):\n",
    "        for j in range(len(list_of_company_name) - 1):\n",
    "            flag = 0\n",
    "\n",
    "            current_comp = list_of_company_name[j]\n",
    "            next_comp = list_of_company_name[j+1]\n",
    "            index_of_current_name = alphabet.index(current_comp[0].lower())\n",
    "            index_of_next_name = alphabet.index(next_comp[0].lower())\n",
    "\n",
    "            if index_of_next_name < index_of_current_name:\n",
    "                list_of_company_name[j], list_of_company_name[j+1] = list_of_company_name[j+1], list_of_company_name[j]\n",
    "                flag = 1\n",
    "        if flag == 0:\n",
    "            return (list_of_company_name)\n",
    "\n",
    "\n",
    "    return(list_of_company_name)\n",
    "\n",
    "\n"
   ]
  },
  {
   "cell_type": "code",
   "execution_count": 24,
   "metadata": {},
   "outputs": [
    {
     "data": {
      "text/plain": [
       "['Ajibola',\n",
       " 'David_host',\n",
       " 'Emem',\n",
       " 'Love',\n",
       " 'Marvelous',\n",
       " 'David',\n",
       " 'Ogechi',\n",
       " 'Richard']"
      ]
     },
     "execution_count": 24,
     "metadata": {},
     "output_type": "execute_result"
    }
   ],
   "source": [
    "# big_tech = ['apple', 'oracle', 'microsoft', 'gocaby', 'facebook', 'twitter', 'bing']\n",
    "names_of_attendees = ['Ajibola', 'David_host', 'Emem', 'Love', 'Marvelous', 'Ogechi', 'Richard', 'David']\n",
    "# new_list = big_tech.extend(names_of_attendees)\n",
    "sort_comp_name(names_of_attendees)"
   ]
  },
  {
   "cell_type": "markdown",
   "metadata": {},
   "source": [
    "### Modified Bubble sort"
   ]
  },
  {
   "cell_type": "markdown",
   "metadata": {},
   "source": [
    "The function can be adjusted to reduce time complexity."
   ]
  },
  {
   "cell_type": "code",
   "execution_count": 26,
   "metadata": {},
   "outputs": [
    {
     "name": "stdout",
     "output_type": "stream",
     "text": [
      "['apple', 'google', 'microsoft', 'gocaby', 'facebook', 'oracle', 'twitter']\n",
      "['apple', 'google', 'gocaby', 'facebook', 'microsoft', 'oracle', 'twitter']\n",
      "['apple', 'google', 'facebook', 'gocaby', 'microsoft', 'oracle', 'twitter']\n",
      "['apple', 'facebook', 'google', 'gocaby', 'microsoft', 'oracle', 'twitter']\n",
      "['apple', 'facebook', 'google', 'gocaby', 'microsoft', 'oracle', 'twitter']\n"
     ]
    },
    {
     "data": {
      "text/plain": [
       "['apple', 'facebook', 'google', 'gocaby', 'microsoft', 'oracle', 'twitter']"
      ]
     },
     "execution_count": 26,
     "metadata": {},
     "output_type": "execute_result"
    }
   ],
   "source": [
    "\n",
    "def sort_comp_name(list_of_company_name):\n",
    "    alphabet = ['a', 'b', 'c', 'd', 'e', 'f', 'g', 'h', 'i', 'j', 'k', \n",
    "                'l', 'm', 'n', 'o', 'p', 'q', 'r', 's', 't', 'u', 'v', \n",
    "                'w', 'x', 'y', 'z']\n",
    "    \n",
    "    for i in range(len(list_of_company_name)):\n",
    "        flag = 0 # Added a flag to stop the loop immediately the list is sorted.\n",
    "        for j in range(len(list_of_company_name) - 1):\n",
    "\n",
    "\n",
    "            current_comp = list_of_company_name[j]\n",
    "            next_comp = list_of_company_name[j+1]\n",
    "            index_of_current_name = alphabet.index(current_comp[0])\n",
    "            index_of_next_name = alphabet.index(next_comp[0])\n",
    "            \n",
    "            if index_of_next_name < index_of_current_name:\n",
    "                flag = 1\n",
    "                list_of_company_name[j], list_of_company_name[j+1] = list_of_company_name[j+1], list_of_company_name[j]\n",
    "\n",
    "        print(list_of_company_name)\n",
    "\n",
    "            \n",
    "        if flag == 0:\n",
    "            break\n",
    "        \n",
    "\n",
    "\n",
    "    return(list_of_company_name)\n",
    "\n",
    "big_tech = ['apple', 'oracle', 'google', 'microsoft', 'gocaby', 'facebook', 'twitter']\n",
    "\n",
    "sort_comp_name(big_tech)\n"
   ]
  },
  {
   "cell_type": "markdown",
   "metadata": {},
   "source": [
    "## Insertion Sort"
   ]
  },
  {
   "cell_type": "markdown",
   "metadata": {},
   "source": [
    "Simplest form of Insertion sorting"
   ]
  },
  {
   "cell_type": "code",
   "execution_count": 41,
   "metadata": {},
   "outputs": [
    {
     "data": {
      "text/plain": [
       "[8, 15, 23, 23, 34, 53, 62, 64, 75, 150]"
      ]
     },
     "execution_count": 41,
     "metadata": {},
     "output_type": "execute_result"
    }
   ],
   "source": [
    "arr = [34, 53, 23, 64, 75, 23, 62]\n",
    "\n",
    "def add_and_order(arr, new_item):\n",
    "    arr.append(new_item)\n",
    "    for i in range(1, len(arr)):\n",
    "        j = i\n",
    "        while j > 0 and arr[j-1] > arr[j]:\n",
    "            arr[j], arr[j-1] = arr[j-1], arr[j]\n",
    "            j -=1\n",
    "\n",
    "    return arr\n",
    "\n",
    "add_and_order(arr, 8)\n",
    "add_and_order(arr, 15)\n",
    "add_and_order(arr, 150)"
   ]
  },
  {
   "cell_type": "markdown",
   "metadata": {},
   "source": [
    "### Examples"
   ]
  },
  {
   "cell_type": "markdown",
   "metadata": {},
   "source": [
    "#### School Report card"
   ]
  },
  {
   "cell_type": "markdown",
   "metadata": {},
   "source": [
    "Let's use insertion sort to insert a student's name and his grade to our existing record of scores, while ensuring that the grades are arranged in a manner that the name and grade of the student twith the highest score comes first."
   ]
  },
  {
   "cell_type": "code",
   "execution_count": 30,
   "metadata": {},
   "outputs": [
    {
     "name": "stdout",
     "output_type": "stream",
     "text": [
      "{'Dee': 19, 'Sophia': 30, 'Dorathy': 33, 'Alice': 88, 'Charlie': 90, 'Bob': 95, 'David': 100}\n"
     ]
    }
   ],
   "source": [
    "def insert_and_sort_by_scores(scores_dict, new_score_dict):\n",
    "    # Step 1: Insert the new score\n",
    "    scores_dict.update(new_score_dict)\n",
    "    \n",
    "    # Step 2: Convert dict to a list of tuples (for sorting) and perform an insertion sort\n",
    "    items = list(scores_dict.items())\n",
    "    # print(items)\n",
    "    for i in range(1, len(items)):\n",
    "        j = i \n",
    "        # Sort in ascending order by comparing scores\n",
    "        while j > 0 and items[j-1][1] > items[j][1]:\n",
    "            items[j-1], items[j] = items[j], items[j-1]\n",
    "            j -= 1\n",
    "\n",
    "    \n",
    "    # Step 3: Rebuild the dictionary from the sorted list of tuples\n",
    "    sorted_dict = {item[0]: item[1] for item in items}\n",
    "    \n",
    "    return sorted_dict\n",
    "\n",
    "# Example usage\n",
    "scores_dict = {'Alice': 88, 'Bob': 95, 'Charlie': 90, 'David': 100, 'Sophia': 30}\n",
    "new_student = {'Dorathy':33, 'Dee': 19}\n",
    "\n",
    "sorted_scores = insert_and_sort_by_scores(scores_dict, new_student)\n",
    "print(sorted_scores)"
   ]
  },
  {
   "cell_type": "code",
   "execution_count": null,
   "metadata": {},
   "outputs": [],
   "source": []
  },
  {
   "cell_type": "code",
   "execution_count": null,
   "metadata": {},
   "outputs": [],
   "source": []
  }
 ],
 "metadata": {
  "kernelspec": {
   "display_name": "Python 3 (ipykernel)",
   "language": "python",
   "name": "python3"
  },
  "language_info": {
   "codemirror_mode": {
    "name": "ipython",
    "version": 3
   },
   "file_extension": ".py",
   "mimetype": "text/x-python",
   "name": "python",
   "nbconvert_exporter": "python",
   "pygments_lexer": "ipython3",
   "version": "3.11.8"
  }
 },
 "nbformat": 4,
 "nbformat_minor": 4
}
